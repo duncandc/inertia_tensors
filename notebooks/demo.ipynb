{
 "cells": [
  {
   "cell_type": "code",
   "execution_count": 113,
   "metadata": {},
   "outputs": [],
   "source": [
    "from inertia_tensors.inertia_tensors import inertia_tensors\n",
    "from inertia_tensors.utils import sample_ellipsoidal_volume"
   ]
  },
  {
   "cell_type": "markdown",
   "metadata": {},
   "source": [
    "# Inertia Tensor Demo"
   ]
  },
  {
   "cell_type": "code",
   "execution_count": 143,
   "metadata": {},
   "outputs": [],
   "source": [
    "coords = sample_ellipsoidal_volume(100, [1.0,0.7])"
   ]
  },
  {
   "cell_type": "code",
   "execution_count": 144,
   "metadata": {},
   "outputs": [],
   "source": [
    "from rotations.vector_utilities import angles_between_list_of_vectors\n",
    "from matplotlib.collections import PatchCollection\n",
    "from matplotlib.patches import Ellipse\n",
    "\n",
    "I = inertia_tensors(coords[np.newaxis,:,:])\n",
    "evals, evecs = np.linalg.eigh(I)\n",
    "evals = evals/np.max(evals)\n",
    "\n",
    "a = evals[0,1]\n",
    "b = evals[0,0]\n",
    "\n",
    "v1 = evecs[0,1,:]\n",
    "ux = np.array([-1,0])\n",
    "\n",
    "misalignment_angle = np.degrees(angles_between_list_of_vectors([ux],[v1]))"
   ]
  },
  {
   "cell_type": "code",
   "execution_count": 145,
   "metadata": {},
   "outputs": [
    {
     "data": {
      "image/png": "[encoded data removed]",
      "text/plain": [
       "<Figure size 237.6x237.6 with 1 Axes>"
      ]
     },
     "metadata": {},
     "output_type": "display_data"
    }
   ],
   "source": [
    "ellipse_0 = Ellipse([0,0], 1*2, 0.7*2, angle=0,\n",
    "                  edgecolor='red', lw=2, facecolor='none')\n",
    "\n",
    "ellipse_1 = Ellipse([0,0], a*2, b*2, angle=misalignment_angle,\n",
    "                    edgecolor='red', lw=2, facecolor='none', linestyle='--')\n",
    "\n",
    "fig, ax = plt.subplots(1,1, figsize=(3.3,3.3))\n",
    "fig.subplots_adjust(left=0.2, right=0.9, bottom=0.2, top=0.9)\n",
    "plt.plot(coords[:,0], coords[:,1], '.', ms=4)\n",
    "ax.add_artist(ellipse_0)\n",
    "ax.add_artist(ellipse_1)\n",
    "\n",
    "plt.xlim([-1.1,1.1])\n",
    "plt.ylim([-1.1,1.1])\n",
    "plt.show()"
   ]
  },
  {
   "cell_type": "code",
   "execution_count": null,
   "metadata": {},
   "outputs": [],
   "source": []
  }
 ],
 "metadata": {
  "kernelspec": {
   "display_name": "Python 2",
   "language": "python",
   "name": "python2"
  },
  "language_info": {
   "codemirror_mode": {
    "name": "ipython",
    "version": 2
   },
   "file_extension": ".py",
   "mimetype": "text/x-python",
   "name": "python",
   "nbconvert_exporter": "python",
   "pygments_lexer": "ipython2",
   "version": "2.7.15"
  }
 },
 "nbformat": 4,
 "nbformat_minor": 2
}
